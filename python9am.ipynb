{
  "cells": [
    {
      "cell_type": "markdown",
      "metadata": {
        "id": "view-in-github",
        "colab_type": "text"
      },
      "source": [
        "<a href=\"https://colab.research.google.com/github/n032dcm-crypto/python9am/blob/main/python9am.ipynb\" target=\"_parent\"><img src=\"https://colab.research.google.com/assets/colab-badge.svg\" alt=\"Open In Colab\"/></a>"
      ]
    },
    {
      "cell_type": "markdown",
      "source": [
        "# PYTHON BASICS- PRINT FUNCTION, COMMENTS AND VARIABLES"
      ],
      "metadata": {
        "id": "g8MoA6qTB3Q7"
      }
    },
    {
      "cell_type": "code",
      "execution_count": null,
      "metadata": {
        "id": "IDcdUXexl1pm"
      },
      "outputs": [],
      "source": [
        "#python basics\n",
        "\n",
        "\n",
        "print(\"hello world\")\n",
        "#hi am wrIting code for hello world"
      ]
    },
    {
      "cell_type": "code",
      "source": [
        "#comments\n",
        "'''hey\n",
        "dear\n",
        " one '''\n",
        "\"\"\"hello world\n",
        "dear screen\n",
        "end.\"\"\"\n",
        "#hi i am writing code for hello world"
      ],
      "metadata": {
        "id": "wNazV0eh87Iv"
      },
      "execution_count": null,
      "outputs": []
    },
    {
      "cell_type": "code",
      "source": [
        "#python basics-task\n",
        "\n",
        "print('                                       BIO DATA                                        ')\n",
        "\n",
        "\n",
        "print('             ')\n",
        "print('             ')\n",
        "print('             ')\n",
        "\n",
        "print('     NAME : NIKITA SHARMA ')\n",
        "print('     AGE : 26 ')\n",
        "print('     GENDER : FEMALE ')\n",
        "print('     DATE OF BIRTH: 26JULY,1999 ')\n",
        "print(\"     FATHER'S NAME: MR.ANIL KUMAR \" )\n",
        "print(\"     MOTHER'S NAME: MRS.SUMAN \" )\n",
        "print('     LANGUAGES KNOWN : HINDI, ENGLISH, PUNJABI, FRENCH ')\n",
        "print('     NATIONALITY : INDIA ')\n",
        "print('     RELIGION : HINDUISM')\n",
        "print('     QUALIFICATION: BCA, MCA ')\n",
        "print('     EXPERIENCE : WORKED AS AN INTERN AT TOXCL TECHNOLOGIES, WORKED AS A SENIOR DEVELOPER AT BYTES TECH. ')\n",
        "print('     MOBILE NUMBER : 9887854525 ')\n",
        "print('     EMAIL ID : n2dm@gmail.com ')\n",
        "print('     ADDRESS : 234, SECTOR-12C, MAIN MARKET, LUDHIANA ')\n",
        "print('     MARITAL STATUS : UNMARRIED ')\n",
        "print('             ')\n",
        "print('             ')\n",
        "\n",
        "\n",
        "\n",
        "print('                                                                         PLACE :  CHANDIGARH       ')\n",
        "print('                                                                         DATE :  23 SEPTEMBER,2025 ')\n",
        "print('                                                                         SIGNATURE :  NIKITA S.    ')\n",
        "print('             ')\n",
        "print('             ')\n"
      ],
      "metadata": {
        "colab": {
          "base_uri": "https://localhost:8080/"
        },
        "id": "YClwvXXg8rXf",
        "outputId": "a3b23f60-9dcc-44bb-84b3-53fca028ff76"
      },
      "execution_count": null,
      "outputs": [
        {
          "output_type": "stream",
          "name": "stdout",
          "text": [
            "                                       BIO DATA                                        \n",
            "             \n",
            "             \n",
            "             \n",
            "     NAME : NIKITA SHARMA \n",
            "     AGE : 26 \n",
            "     GENDER : FEMALE \n",
            "     DATE OF BIRTH: 26JULY,1999 \n",
            "     FATHER'S NAME: MR.ANIL KUMAR \n",
            "     MOTHER'S NAME: MRS.SUMAN \n",
            "     LANGUAGES KNOWN : HINDI, ENGLISH, PUNJABI, FRENCH \n",
            "     NATIONALITY : INDIA \n",
            "     RELIGION : HINDUISM\n",
            "     QUALIFICATION: BCA, MCA \n",
            "     EXPERIENCE : WORKED AS AN INTERN AT TOXCL TECHNOLOGIES, WORKED AS A SENIOR DEVELOPER AT BYTES TECH. \n",
            "     MOBILE NUMBER : 9887854525 \n",
            "     EMAIL ID : n2dm@gmail.com \n",
            "     ADDRESS : 234, SECTOR-12C, MAIN MARKET, LUDHIANA \n",
            "     MARITAL STATUS : UNMARRIED \n",
            "             \n",
            "             \n",
            "                                                                         PLACE :  CHANDIGARH       \n",
            "                                                                         DATE :  23 SEPTEMBER,2025 \n",
            "                                                                         SIGNATURE :  NIKITA S.    \n",
            "             \n",
            "             \n"
          ]
        }
      ]
    },
    {
      "cell_type": "code",
      "execution_count": null,
      "metadata": {
        "colab": {
          "base_uri": "https://localhost:8080/"
        },
        "id": "rvrTLhDykR58",
        "outputId": "7138471d-a938-43a2-df58-0ed40a66244f"
      },
      "outputs": [
        {
          "output_type": "stream",
          "name": "stdout",
          "text": [
            "                                       BIO DATA                                        \n",
            "             \n",
            "             \n",
            "             \n",
            "     NAME :  NIKITA SHARMA\n",
            "     AGE :  26\n",
            "     GENDER :  FEMALE\n",
            "     DATE OF BIRTH:  26 JULY,1999\n",
            "     FATHER'S NAME:  MR.ANIL KUMAR\n",
            "     MOTHER'S NAME:  MRS.SUMAN\n",
            "     LANGUAGES KNOWN :  HINDI, ENGLISH, PUNJABI, FRENCH\n",
            "     NATIONALITY :  INDIAN\n",
            "     RELIGION : HINDUISM\n",
            "     QUALIFICATION:  BCA, MCA\n",
            "     EXPERIENCE :   WORKED AS AN INTERN AT TOXCL TECH., WORKED AS A SENIOR DEVELOPER AT BYTES TECH.\n",
            "     MOBILE NUMBER :  9887854525\n",
            "     EMAIL ID :  n2dm@gmail.com\n",
            "     ADDRESS :  234, SECTOR-12C, MAIN MARKET, LUDHIANA\n",
            "     MARITAL STATUS : MARRIED :  FALSE\n",
            "             \n",
            "             \n",
            "                                                                         PLACE :  CHANDIGARH       \n",
            "                                                                         DATE :  24 SEPTEMBER,2025 \n",
            "                                                                         SIGNATURE :  NIKITA S.    \n",
            "             \n",
            "             \n"
          ]
        }
      ],
      "source": [
        "#TASK- BIODATA USING VARIABLES\n",
        "\n",
        "name='NIKITA SHARMA'\n",
        "age=26\n",
        "gen='FEMALE'\n",
        "dob='26 JULY,1999'\n",
        "fnam='MR.ANIL KUMAR'\n",
        "mnam='MRS.SUMAN'\n",
        "lang1='HINDI,'\n",
        "lang2='ENGLISH,'\n",
        "lang3='PUNJABI,'\n",
        "lang4='FRENCH'\n",
        "nat='INDIAN'\n",
        "rel= 'HINDUISM'\n",
        "qual='BCA, MCA'\n",
        "exp='WORKED AS AN INTERN AT TOXCL TECH., WORKED AS A SENIOR DEVELOPER AT BYTES TECH.'\n",
        "mob=9887854525\n",
        "mail='n2dm@gmail.com'\n",
        "add='234, SECTOR-12C, MAIN MARKET, LUDHIANA'\n",
        "marrd='FALSE'\n",
        "\n",
        "\n",
        "print('                                       BIO DATA                                        ')\n",
        "\n",
        "\n",
        "print('             ')\n",
        "print('             ')\n",
        "print('             ')\n",
        "\n",
        "print('     NAME : ', name)\n",
        "print('     AGE : ', age)\n",
        "print('     GENDER : ', gen)\n",
        "print('     DATE OF BIRTH: ', dob)\n",
        "print(\"     FATHER'S NAME: \" , fnam)\n",
        "print(\"     MOTHER'S NAME: \", mnam )\n",
        "print('     LANGUAGES KNOWN : ', lang1, lang2, lang3, lang4)\n",
        "print('     NATIONALITY : ', nat)\n",
        "print('     RELIGION :', rel)\n",
        "print('     QUALIFICATION: ', qual)\n",
        "print('     EXPERIENCE :  ', exp)\n",
        "print('     MOBILE NUMBER : ', mob)\n",
        "print('     EMAIL ID : ', mail)\n",
        "print('     ADDRESS : ', add)\n",
        "print('     MARITAL STATUS : MARRIED : ', marrd)\n",
        "print('             ')\n",
        "print('             ')\n",
        "\n",
        "\n",
        "\n",
        "print('                                                                         PLACE :  CHANDIGARH       ')\n",
        "print('                                                                         DATE :  24 SEPTEMBER,2025 ')\n",
        "print('                                                                         SIGNATURE :  NIKITA S.    ')\n",
        "print('             ')\n",
        "print('             ')\n",
        "\n",
        "\n"
      ]
    },
    {
      "cell_type": "markdown",
      "source": [
        "# VARIABLES AND INPUT FUNCTION"
      ],
      "metadata": {
        "id": "JvZJez9FEru_"
      }
    },
    {
      "cell_type": "code",
      "source": [
        "#TASK- BILL USING VARIABLES\n",
        "i1='AVON PAIN BRUSH SET'\n",
        "i2=\"ARTIST'S SPATULA\"\n",
        "i3='CAMLIN OIL PAINTS'\n",
        "i4='ART CANVAS BOARD'\n",
        "i5='APSARA SHADING PENCILS'\n",
        "p1=300\n",
        "p2=65\n",
        "p3=380\n",
        "p4=560\n",
        "p5=120\n",
        "\n",
        "print('                                                                          XYZ BOOK STORE                                     ')\n",
        "print('                                                                             RECEIPT                                         ')\n",
        "print('                                                                                                                             ')\n",
        "print('STATIONERY ITEM','                      PRICE')\n",
        "print('                                                                                                                                                                   '     )\n",
        "print('                                                                                                                             ')\n",
        "print( i1,'                ', 'Rs.',p1)\n",
        "print( i2,'                   ','Rs. ', p2)\n",
        "print( i3, '                  ','Rs.',p3)\n",
        "print( i4,'                   ','Rs.', p4)\n",
        "print( i5,'             ','Rs.', p5)\n",
        "print('                                                                                                                              ')\n",
        "print( 'TOTAL :                             ', 'Rs.',                       p1+p2+p3+p4+p5   )\n",
        "\n",
        "print('')\n",
        "print('')\n",
        "print('')\n",
        "print('')"
      ],
      "metadata": {
        "colab": {
          "base_uri": "https://localhost:8080/"
        },
        "id": "41ojXFT0E64k",
        "outputId": "d25aae2b-4527-4a5c-bb02-ee6e0b223d32"
      },
      "execution_count": null,
      "outputs": [
        {
          "output_type": "stream",
          "name": "stdout",
          "text": [
            "                                                                          XYZ BOOK STORE                                     \n",
            "                                                                             RECEIPT                                         \n",
            "                                                                                                                             \n",
            "STATIONERY ITEM                       PRICE\n",
            "                                                                                                                                                                   \n",
            "                                                                                                                             \n",
            "AVON PAIN BRUSH SET                  Rs. 300\n",
            "ARTIST'S SPATULA                     Rs.  65\n",
            "CAMLIN OIL PAINTS                    Rs. 380\n",
            "ART CANVAS BOARD                     Rs. 560\n",
            "APSARA SHADING PENCILS               Rs. 120\n",
            "                                                                                                                              \n",
            "TOTAL :                              Rs. 1425\n",
            "\n",
            "\n",
            "\n",
            "\n"
          ]
        }
      ]
    },
    {
      "cell_type": "code",
      "source": [
        "#TASK- BILL USING VARIABLES WITH DISCOUNT ON TOTAL AMOUNT\n",
        "i1='AVON PAIN BRUSH SET'\n",
        "i2=\"ARTIST'S SPATULA\"\n",
        "i3='CAMLIN OIL PAINTS'\n",
        "i4='ART CANVAS BOARD'\n",
        "i5='APSARA SHADING PENCILS'\n",
        "p1=300\n",
        "p2=65\n",
        "p3=380\n",
        "p4=560\n",
        "p5=120\n",
        "tot=p1+p2+p3+p4+p5\n",
        "dct=20\n",
        "disct=dct/100*tot\n",
        "totpay=tot-disct\n",
        "\n",
        "print('                                                                          XYZ BOOK STORE                                     ')\n",
        "print('                                                                             RECEIPT                                         ')\n",
        "print('                                                                                                                             ')\n",
        "print('STATIONERY ITEM','                      PRICE')\n",
        "print('                                                                                                                                                                   '     )\n",
        "print('                                                                                                                             ')\n",
        "print( i1,'                ', 'Rs.',p1)\n",
        "print( i2,'                   ','Rs. ', p2)\n",
        "print( i3, '                  ','Rs.',p3)\n",
        "print( i4,'                   ','Rs.', p4)\n",
        "print( i5,'             ','Rs.', p5)\n",
        "print('                                                                                                                              ')\n",
        "print( 'TOTAL :                             ', 'Rs.',                       tot   )\n",
        "\n",
        "print('DISCOUNT: (20%)                     ', 'Rs.',disct)\n",
        "\n",
        "print('TOTAL PAYABLE AMOUNT :              ','Rs.', totpay)\n",
        "print('')\n",
        "print('')\n",
        "print('')\n",
        "print('')"
      ],
      "metadata": {
        "colab": {
          "base_uri": "https://localhost:8080/"
        },
        "id": "tdpysw_mFxjQ",
        "outputId": "6b410e78-05b1-4d80-97ad-7d80f95c583c"
      },
      "execution_count": null,
      "outputs": [
        {
          "output_type": "stream",
          "name": "stdout",
          "text": [
            "                                                                          XYZ BOOK STORE                                     \n",
            "                                                                             RECEIPT                                         \n",
            "                                                                                                                             \n",
            "STATIONERY ITEM                       PRICE\n",
            "                                                                                                                                                                   \n",
            "                                                                                                                             \n",
            "AVON PAIN BRUSH SET                  Rs. 300\n",
            "ARTIST'S SPATULA                     Rs.  65\n",
            "CAMLIN OIL PAINTS                    Rs. 380\n",
            "ART CANVAS BOARD                     Rs. 560\n",
            "APSARA SHADING PENCILS               Rs. 120\n",
            "                                                                                                                              \n",
            "TOTAL :                              Rs. 1425\n",
            "DISCOUNT: (20%)                      Rs. 285.0\n",
            "TOTAL PAYABLE AMOUNT :               Rs. 1140.0\n",
            "\n",
            "\n",
            "\n",
            "\n"
          ]
        }
      ]
    },
    {
      "cell_type": "code",
      "source": [
        "#TASK- DISCOUNTED BILL USING VARIABLES WITH FIXED DISCOUNTS ON EACH PRODUCT AND TOTAL AMOUNT\n",
        "i1='AVON PAIN BRUSH SET'\n",
        "i2=\"ARTIST'S SPATULA\"\n",
        "i3='CAMLIN OIL PAINTS'\n",
        "i4='ART CANVAS BOARD'\n",
        "i5='APSARA SHADING PENCILS'\n",
        "p1=300\n",
        "p2=65\n",
        "p3=380\n",
        "p4=560\n",
        "p5=120\n",
        "pdct=5/100\n",
        "p1dt=pdct*p1\n",
        "p11=p1-p1dt\n",
        "p2dt=pdct*p2\n",
        "p22=p2-p2dt\n",
        "p3dt=pdct*p3\n",
        "p33=p3-p3dt\n",
        "p4dt=pdct*p4\n",
        "p44=p4-p4dt\n",
        "p5dt=pdct*p5\n",
        "p55=p5-p5dt\n",
        "tot=p11+p22+p33+p44+p55\n",
        "dct=20/100\n",
        "disct=dct*tot\n",
        "totpay=tot-disct\n",
        "\n",
        "print('                                                                          XYZ BOOK STORE                                     ')\n",
        "print('                                                                             RECEIPT                                         ')\n",
        "print('')\n",
        "print('')\n",
        "print('   **NOTE:NOW SAVE AN EXTRA 5% ON ALL PRODUCTS.  ')\n",
        "print('')\n",
        "print('STATIONERY ITEM','                      PRICE', '                      DISCOUNTED PRICE')\n",
        "print('')\n",
        "print('                                                                                                                                                                   '     )\n",
        "print('                                                                                                                             ')\n",
        "print( i1,'                ', 'Rs.',p1,'                       Rs.',p11)\n",
        "print( i2,'                   ','Rs. ', p2,'                       Rs.',p22)\n",
        "print( i3, '                  ','Rs.',p3,'                       Rs.',p33)\n",
        "print( i4,'                   ','Rs.', p4,'                       Rs.',p44)\n",
        "print( i5,'             ','Rs.', p5,'                       Rs.',p55)\n",
        "print('                                                                                                                              ')\n",
        "print( 'TOTAL :                                                            ', 'Rs.',                       tot   )\n",
        "\n",
        "print('DISCOUNT: (20%)                                                    ', 'Rs.',disct)\n",
        "\n",
        "print('TOTAL PAYABLE AMOUNT :                                             ','Rs.', totpay)\n",
        "print('')\n",
        "print('')\n",
        "print('')\n",
        "print('')"
      ],
      "metadata": {
        "colab": {
          "base_uri": "https://localhost:8080/"
        },
        "id": "63NtWih0GpaK",
        "outputId": "5620d5c7-8ad0-40be-8c0d-353ada16cfd2"
      },
      "execution_count": null,
      "outputs": [
        {
          "output_type": "stream",
          "name": "stdout",
          "text": [
            "                                                                          XYZ BOOK STORE                                     \n",
            "                                                                             RECEIPT                                         \n",
            "\n",
            "\n",
            "   **NOTE:NOW SAVE AN EXTRA 5% ON ALL PRODUCTS.  \n",
            "\n",
            "STATIONERY ITEM                       PRICE                       DISCOUNTED PRICE\n",
            "\n",
            "                                                                                                                                                                   \n",
            "                                                                                                                             \n",
            "AVON PAIN BRUSH SET                  Rs. 300                        Rs. 285.0\n",
            "ARTIST'S SPATULA                     Rs.  65                        Rs. 61.75\n",
            "CAMLIN OIL PAINTS                    Rs. 380                        Rs. 361.0\n",
            "ART CANVAS BOARD                     Rs. 560                        Rs. 532.0\n",
            "APSARA SHADING PENCILS               Rs. 120                        Rs. 114.0\n",
            "                                                                                                                              \n",
            "TOTAL :                                                             Rs. 1353.75\n",
            "DISCOUNT: (20%)                                                     Rs. 270.75\n",
            "TOTAL PAYABLE AMOUNT :                                              Rs. 1083.0\n",
            "\n",
            "\n",
            "\n",
            "\n"
          ]
        }
      ]
    },
    {
      "cell_type": "code",
      "source": [
        "#INPUT FUNCTION\n",
        "\n",
        "\n",
        "item1=input('enter your name:  ')\n",
        "print(item1)\n",
        "\n",
        "item2=int(input('enter the price:  '))\n",
        "print(item2)"
      ],
      "metadata": {
        "id": "6ny2oKTkGQ8J"
      },
      "execution_count": null,
      "outputs": []
    },
    {
      "cell_type": "code",
      "source": [
        "#TASK- DISCOUNTED BILL USING VARIABLES AND INPUT FUNCTION WITH VARIABLE DISCOUNTS ON EACH PRODUCT AND TOTAL AMOUNT.\n",
        "\n",
        "\n",
        "\n",
        "print('                                                                          XYZ BOOK STORE                                     ')\n",
        "print('                                                                             RECEIPT                                         ')\n",
        "print('')\n",
        "print('')\n",
        "print('   **NOTE:NOW YOU CAN SAVE UPTO AN EXTRA 15% ON ALL PRODUCTS.  ')\n",
        "print('')\n",
        "\n",
        "print ('ORDER DETAILS :')\n",
        "print('')\n",
        "print('')\n",
        "print('1.')\n",
        "prod1=input('  NAME OF FIRST PRODUCT : ')\n",
        "price_of_product1=float(input('  PRICE OF FIRST PRODUCT : '))\n",
        "discount_prod1=float(input('  DISCOUNT(IN %) ON FIRST PRODUCT : '))\n",
        "p1=(discount_prod1/100)*price_of_product1\n",
        "disctp_prod1=price_of_product1-p1\n",
        "print('')\n",
        "print('2.')\n",
        "prod2=input('  NAME OF SECOND PRODUCT : ')\n",
        "price_of_product2=float(input(\"  PRICE OF SECOND PRODUCT : \"))\n",
        "discount_prod2=float(input('  DISCOUNT(IN %) ON SECOND PRODUCT : '))\n",
        "p2=(discount_prod2/100)*price_of_product2\n",
        "disctp_prod2=price_of_product2-p2\n",
        "print('')\n",
        "print('3.')\n",
        "prod3=input('  NAME OF THIRD PRODUCT :  ')\n",
        "price_of_product3=float(input(\"  PRICE OF THIRD PRODUCT :  \"))\n",
        "discount_prod3=float(input('  DISCOUNT(IN %) ON THIRD PRODUCT :  '))\n",
        "p3=(discount_prod3/100)*price_of_product3\n",
        "disctp_prod3=price_of_product3-p3\n",
        "print('')\n",
        "print('4.')\n",
        "prod4=input('  NAME OF FOURTH PRODUCT : ')\n",
        "price_of_product4=float(input(\"  PRICE OF FOURTH PRODUCT :  \"))\n",
        "discount_prod4=float(input('  DISCOUNT(IN %) ON FOURTH PRODUCT : '))\n",
        "p4=(discount_prod4/100)*price_of_product4\n",
        "disctp_prod4=price_of_product4-p4\n",
        "print('')\n",
        "print('5.')\n",
        "prod5=input('  NAME OF FIFTH PRODUCT : ')\n",
        "price_of_product5=float(input('  PRICE OF FIFTH PRODUCT : '))\n",
        "discount_prod5=float(input('  DISCOUNT(IN %) ON FIFTH PRODUCT : '))\n",
        "p5=(discount_prod5/100)*price_of_product5\n",
        "disctp_prod5=price_of_product5-p5\n",
        "print('')\n",
        "\n",
        "tot=disctp_prod1+disctp_prod2+disctp_prod3+disctp_prod4+disctp_prod5\n",
        "tot_dsct=float(input('  DISCOUNT ON THE COMPLETE ORDER (in %) :  '))\n",
        "disct=tot*(tot_dsct/100)\n",
        "totpay=tot-disct\n",
        "print('')\n",
        "deliv=bool(input(' ELIGIBLE FOR FREE DELIVERY : '))\n",
        "print('')\n",
        "print('')\n",
        "print ('ORDER SUMMARY :')\n",
        "print('STATIONERY ITEM','                      PRICE', '                      DISCOUNT ON THE PRODUCT','                      DISCOUNTED PRICE')\n",
        "print('')\n",
        "print('                                                                                                                                                                   '     )\n",
        "print('                                                                                                                                                                    ')\n",
        "print( prod1, '               ','Rs.',price_of_product1,'                          '  ,  discount_prod1,'%' ,'                                   Rs.',disctp_prod1)\n",
        "print( prod2 ,'                   ','Rs.',price_of_product2, '                           ' , discount_prod2,'%', '                                   Rs.',disctp_prod2)\n",
        "print(prod3 ,'                  ','Rs.',price_of_product3, '                          ' , discount_prod3,'%', '                                   Rs.',disctp_prod3)\n",
        "print( prod4, '                   ','Rs.',price_of_product4, '                          '  ,discount_prod4,'%', '                                  Rs.',disctp_prod4)\n",
        "print( prod5, '             ','Rs.',price_of_product5,'                          ' , discount_prod5,'%', '                                   Rs.',disctp_prod5)\n",
        "print('')\n",
        "print('')\n",
        "print ('ORDER TOTAL :')\n",
        "print('                                                                                                                              ')\n",
        "print( 'TOTAL : ','                                                               ', 'Rs.',               tot   )\n",
        "print('')\n",
        "print('DISCOUNT:', '                                                              ',tot_dsct ,'%'   )\n",
        "print('DISCOUNTED PRICE:  ', '                                              .     ','Rs.',disct)\n",
        "\n",
        "print('TOTAL PAYABLE AMOUNT :                                                  ','Rs.', totpay)\n",
        "print('')\n",
        "print('')\n",
        "print('')\n",
        "print('')"
      ],
      "metadata": {
        "id": "8WVcI_nlHNsm"
      },
      "execution_count": null,
      "outputs": []
    },
    {
      "cell_type": "code",
      "source": [
        "#TASK- DISCOUNTED BILL USING VARIABLES AND INPUT FUNCTION WITH VARIABLE DISCOUNTS ON EACH PRODUCT AND TOTAL AMOUNT.\n",
        "\n",
        "\n",
        "\n",
        "print('                                                                          XYZ BOOK STORE                                     ')\n",
        "print('                                                                             RECEIPT                                         ')\n",
        "print('')\n",
        "print('')\n",
        "print('   **NOTE:NOW YOU CAN SAVE UPTO AN EXTRA 15% ON ALL PRODUCTS.  ')\n",
        "print('')\n",
        "\n",
        "print ('ORDER DETAILS :')\n",
        "print('')\n",
        "print('')\n",
        "print('1.')\n",
        "prod1=input('  NAME OF FIRST PRODUCT : ')\n",
        "price_of_product1=float(input('  PRICE OF FIRST PRODUCT : '))\n",
        "discount_prod1=float(input('  DISCOUNT(IN %) ON FIRST PRODUCT : '))\n",
        "p1=(discount_prod1/100)*price_of_product1\n",
        "disctp_prod1=price_of_product1-p1\n",
        "print('')\n",
        "print('2.')\n",
        "prod2=input('  NAME OF SECOND PRODUCT : ')\n",
        "price_of_product2=float(input(\"  PRICE OF SECOND PRODUCT : \"))\n",
        "discount_prod2=float(input('  DISCOUNT(IN %) ON SECOND PRODUCT : '))\n",
        "p2=(discount_prod2/100)*price_of_product2\n",
        "disctp_prod2=price_of_product2-p2\n",
        "print('')\n",
        "print('3.')\n",
        "prod3=input('  NAME OF THIRD PRODUCT :  ')\n",
        "price_of_product3=float(input(\"  PRICE OF THIRD PRODUCT :  \"))\n",
        "discount_prod3=float(input('  DISCOUNT(IN %) ON THIRD PRODUCT :  '))\n",
        "p3=(discount_prod3/100)*price_of_product3\n",
        "disctp_prod3=price_of_product3-p3\n",
        "print('')\n",
        "print('4.')\n",
        "prod4=input('  NAME OF FOURTH PRODUCT : ')\n",
        "price_of_product4=float(input(\"  PRICE OF FOURTH PRODUCT :  \"))\n",
        "discount_prod4=float(input('  DISCOUNT(IN %) ON FOURTH PRODUCT : '))\n",
        "p4=(discount_prod4/100)*price_of_product4\n",
        "disctp_prod4=price_of_product4-p4\n",
        "print('')\n",
        "print('5.')\n",
        "prod5=input('  NAME OF FIFTH PRODUCT : ')\n",
        "price_of_product5=float(input('  PRICE OF FIFTH PRODUCT : '))\n",
        "discount_prod5=float(input('  DISCOUNT(IN %) ON FIFTH PRODUCT : '))\n",
        "p5=(discount_prod5/100)*price_of_product5\n",
        "disctp_prod5=price_of_product5-p5\n",
        "print('')\n",
        "\n",
        "tot=disctp_prod1+disctp_prod2+disctp_prod3+disctp_prod4+disctp_prod5\n",
        "tot_dsct=float(input('  DISCOUNT ON THE COMPLETE ORDER (in %) :  '))\n",
        "disct=tot*(tot_dsct/100)\n",
        "totpay=tot-disct\n",
        "print('')\n",
        "deliv=bool(input(' ELIGIBLE FOR FREE DELIVERY : '))\n",
        "print('')\n",
        "print('')\n",
        "print ('ORDER SUMMARY :')\n",
        "print('STATIONERY ITEM','                      PRICE', '                      DISCOUNT ON THE PRODUCT','                      DISCOUNTED PRICE')\n",
        "print('')\n",
        "print('                                                                                                                                                                   '     )\n",
        "print('                                                                                                                                                                    ')\n",
        "print( prod1, '               ','Rs.',price_of_product1,'                          '  ,  discount_prod1,'%' ,'                                   Rs.',disctp_prod1)\n",
        "print( prod2 ,'                   ','Rs.',price_of_product2, '                           ' , discount_prod2,'%', '                                   Rs.',disctp_prod2)\n",
        "print(prod3 ,'                  ','Rs.',price_of_product3, '                          ' , discount_prod3,'%', '                                   Rs.',disctp_prod3)\n",
        "print( prod4, '                   ','Rs.',price_of_product4, '                          '  ,discount_prod4,'%', '                                  Rs.',disctp_prod4)\n",
        "print( prod5, '             ','Rs.',price_of_product5,'                          ' , discount_prod5,'%', '                                   Rs.',disctp_prod5)\n",
        "print('')\n",
        "print('')\n",
        "print ('ORDER TOTAL :')\n",
        "print('                                                                                                                              ')\n",
        "print( 'TOTAL : ','                                                               ', 'Rs.',               tot   )\n",
        "print('')\n",
        "print('DISCOUNT:', '                                                              ',tot_dsct ,'%'   )\n",
        "print('DISCOUNTED PRICE:  ', '                                              .     ','Rs.',disct)\n",
        "\n",
        "print('TOTAL PAYABLE AMOUNT :                                                  ','Rs.', totpay)\n",
        "print('')\n",
        "print('')\n",
        "print('  DELIVERY DETAILS : ')\n",
        "print('')\n",
        "fnam=input('ENTER FIRST NAME :')\n",
        "lnam=input('ENTER LAST NAME :')\n",
        "mob=int(input('ENTER MOBILE NUMBER :'))\n",
        "add=input('ENTER STREET ADDRESS :')\n",
        "city=input('ENTER CITY :')\n",
        "dist=input('ENTER DISTRICT :')\n",
        "stat=input('ENTER STATE :')\n",
        "pin=input('ENTER PIN CODE :')\n",
        "print('')\n",
        "print('  PAYMENT DETAILS : ')\n",
        "print('')\n",
        "pay=input('ENTER PAYMENT METHOD :')\n",
        "print('')"
      ],
      "metadata": {
        "id": "7vDGqgXW0j4p"
      },
      "execution_count": null,
      "outputs": []
    },
    {
      "cell_type": "markdown",
      "source": [],
      "metadata": {
        "id": "JfatVm3QImVp"
      }
    },
    {
      "cell_type": "markdown",
      "source": [
        "# CALCULATION OF SIMPLE INTEREST"
      ],
      "metadata": {
        "id": "YTt--YqeIqmp"
      }
    },
    {
      "cell_type": "code",
      "source": [],
      "metadata": {
        "id": "AoNfSfT4I9Cw"
      },
      "execution_count": null,
      "outputs": []
    },
    {
      "cell_type": "markdown",
      "source": [
        "# TASKS"
      ],
      "metadata": {
        "id": "repMm6LpJN9G"
      }
    },
    {
      "cell_type": "code",
      "source": [],
      "metadata": {
        "id": "WosxBaIYJVb-"
      },
      "execution_count": null,
      "outputs": []
    },
    {
      "cell_type": "markdown",
      "source": [
        "# CONDITIONAL STATEMENTS: IF-ELSE"
      ],
      "metadata": {
        "id": "nIBAD86DJWRe"
      }
    },
    {
      "cell_type": "code",
      "source": [],
      "metadata": {
        "id": "n32sfl1nJt5N"
      },
      "execution_count": null,
      "outputs": []
    },
    {
      "cell_type": "markdown",
      "source": [
        "# TASKS"
      ],
      "metadata": {
        "id": "3ZUaDGkwJuw4"
      }
    },
    {
      "cell_type": "code",
      "source": [],
      "metadata": {
        "id": "rABU4Z-vJyeD"
      },
      "execution_count": null,
      "outputs": []
    },
    {
      "cell_type": "markdown",
      "source": [
        "# CALCULATION OF LEAP YEAR"
      ],
      "metadata": {
        "id": "aeNr-XIuOrlH"
      }
    },
    {
      "cell_type": "code",
      "source": [],
      "metadata": {
        "id": "JMirYM4nO142"
      },
      "execution_count": null,
      "outputs": []
    },
    {
      "cell_type": "markdown",
      "source": [
        "#TASKS - TRAFFIC ROUND-ABOUT"
      ],
      "metadata": {
        "id": "IONNxWukO3ff"
      }
    },
    {
      "cell_type": "code",
      "source": [],
      "metadata": {
        "id": "TwUmfA12PPZb"
      },
      "execution_count": null,
      "outputs": []
    },
    {
      "cell_type": "markdown",
      "source": [
        "# LOOPS : FOR LOOP WITH RANGE FUNCTION"
      ],
      "metadata": {
        "id": "QUf85k_nJzAX"
      }
    },
    {
      "cell_type": "code",
      "source": [
        "#FOR LOOP WITH RANGE FUNCTION { RANGE FUNCTION SYNTAX-  range(starting value, last value, difference between any 2 values)    }\n",
        "for i in range(0,10):\n",
        "  print(\"hello world\")\n"
      ],
      "metadata": {
        "colab": {
          "base_uri": "https://localhost:8080/"
        },
        "id": "1v3VCU1sJ_ex",
        "outputId": "8fe5d861-b887-4f14-e20a-393021950f64"
      },
      "execution_count": null,
      "outputs": [
        {
          "output_type": "stream",
          "name": "stdout",
          "text": [
            "hello world\n",
            "hello world\n",
            "hello world\n",
            "hello world\n",
            "hello world\n",
            "hello world\n",
            "hello world\n",
            "hello world\n",
            "hello world\n",
            "hello world\n"
          ]
        }
      ]
    },
    {
      "cell_type": "code",
      "source": [
        "#RANGE FUNCTION [SYNTAX-  range(starting value, last value, difference between any 2 values)   ]\n",
        "\n",
        "for i in range(1,26,2):\n",
        "  print(i)"
      ],
      "metadata": {
        "colab": {
          "base_uri": "https://localhost:8080/"
        },
        "id": "jJWlUfkZKNKV",
        "outputId": "fd2fef53-222f-4c23-8ded-119259de368b"
      },
      "execution_count": null,
      "outputs": [
        {
          "output_type": "stream",
          "name": "stdout",
          "text": [
            "1\n",
            "3\n",
            "5\n",
            "7\n",
            "9\n",
            "11\n",
            "13\n",
            "15\n",
            "17\n",
            "19\n",
            "21\n",
            "23\n",
            "25\n"
          ]
        }
      ]
    },
    {
      "cell_type": "code",
      "source": [
        "#TASK- ODD NUMBERS FROM 1 TO 26\n",
        "\n",
        "for i in range(1,26,2):\n",
        "    print(\"odd\",i)"
      ],
      "metadata": {
        "colab": {
          "base_uri": "https://localhost:8080/"
        },
        "id": "Rn0UtTxNLb1B",
        "outputId": "3b6f4df2-c5be-4fbe-f646-d6c42c0de383"
      },
      "execution_count": null,
      "outputs": [
        {
          "output_type": "stream",
          "name": "stdout",
          "text": [
            "odd 1\n",
            "odd 3\n",
            "odd 5\n",
            "odd 7\n",
            "odd 9\n",
            "odd 11\n",
            "odd 13\n",
            "odd 15\n",
            "odd 17\n",
            "odd 19\n",
            "odd 21\n",
            "odd 23\n",
            "odd 25\n"
          ]
        }
      ]
    },
    {
      "cell_type": "code",
      "source": [
        "#TASK- EVEN NUMBERS FROM 1 TO 26\n",
        "\n",
        "for i in range(0,26,2):\n",
        "  print('even', i)"
      ],
      "metadata": {
        "colab": {
          "base_uri": "https://localhost:8080/"
        },
        "id": "mgb9daEaMgd4",
        "outputId": "c649171d-e9b3-4457-c7ca-9e79c7576e2c"
      },
      "execution_count": null,
      "outputs": [
        {
          "output_type": "stream",
          "name": "stdout",
          "text": [
            "even 0\n",
            "even 2\n",
            "even 4\n",
            "even 6\n",
            "even 8\n",
            "even 10\n",
            "even 12\n",
            "even 14\n",
            "even 16\n",
            "even 18\n",
            "even 20\n",
            "even 22\n",
            "even 24\n"
          ]
        }
      ]
    },
    {
      "cell_type": "markdown",
      "source": [
        "#CALCULATION OF SUCCESIVE SUM"
      ],
      "metadata": {
        "id": "0fCHP_2aO1Ff"
      }
    },
    {
      "cell_type": "code",
      "source": [
        "#CALCULATION OF SUCCESIVE SUM (PRINTING VALUE OF EACH SUCCESSIVE SUM)\n",
        "\n",
        "#[HERE,WE WRITE PRINT STATEMENT UNDER SUM VARIABLE]\n",
        "#1+2+3+4+..+11\n",
        "\n",
        "sum=0\n",
        "for i in range(1,11):\n",
        "  sum=sum+i\n",
        "  print(sum)"
      ],
      "metadata": {
        "colab": {
          "base_uri": "https://localhost:8080/"
        },
        "id": "UUQ3ApxzM1A0",
        "outputId": "7e71d2cf-0b8d-496f-db20-69f97e1a4b21"
      },
      "execution_count": 26,
      "outputs": [
        {
          "output_type": "stream",
          "name": "stdout",
          "text": [
            "1\n",
            "3\n",
            "6\n",
            "10\n",
            "15\n",
            "21\n",
            "28\n",
            "36\n",
            "45\n",
            "55\n"
          ]
        }
      ]
    },
    {
      "cell_type": "code",
      "source": [
        "#CALCULATION OF SUCCESIVE SUM (PRINTING ONLY FINAL VALUE OF SUM)\n",
        "\n",
        "#[HERE,WE WRITE PRINT STATEMENT UNDER FOR STATEMENT]\n",
        "\n",
        "#1+2+3+4+..+11\n",
        "\n",
        "sum=0\n",
        "for i in range(1,11):\n",
        "  sum=sum+i\n",
        "print('sum:',sum)"
      ],
      "metadata": {
        "colab": {
          "base_uri": "https://localhost:8080/"
        },
        "id": "C3P9VNT6NeRm",
        "outputId": "4d363473-9752-4af3-e696-15367a1a803c"
      },
      "execution_count": null,
      "outputs": [
        {
          "output_type": "stream",
          "name": "stdout",
          "text": [
            "sum: 55\n"
          ]
        }
      ]
    },
    {
      "cell_type": "code",
      "source": [
        "#HOMEWORK TASKS\n",
        "#1    2+4+6+...+52 = 2+4+6+...+50+1\n",
        "\n",
        "sum=1\n",
        "for i in range(2,51,2):\n",
        "  sum=sum+i\n",
        "  print(sum)\n",
        "\n",
        "print('')\n",
        "print('')\n",
        "\n",
        "sum=1\n",
        "for i in range(2,51,2):\n",
        "  sum=sum+i\n",
        "print('sum:',sum)"
      ],
      "metadata": {
        "colab": {
          "base_uri": "https://localhost:8080/"
        },
        "id": "phiKxc6FPXlW",
        "outputId": "d000c09b-1ae6-4c66-d323-a144eeaaaf4f"
      },
      "execution_count": null,
      "outputs": [
        {
          "output_type": "stream",
          "name": "stdout",
          "text": [
            "3\n",
            "7\n",
            "13\n",
            "21\n",
            "31\n",
            "43\n",
            "57\n",
            "73\n",
            "91\n",
            "111\n",
            "133\n",
            "157\n",
            "183\n",
            "211\n",
            "241\n",
            "273\n",
            "307\n",
            "343\n",
            "381\n",
            "421\n",
            "463\n",
            "507\n",
            "553\n",
            "601\n",
            "651\n",
            "\n",
            "\n",
            "sum: 651\n"
          ]
        }
      ]
    },
    {
      "cell_type": "code",
      "source": [
        "#2      1+8+15+22+29+...+100 = 1+8+15+22+29+...+99+1\n",
        "\n",
        "sum=1\n",
        "for i in range(1,100,7):\n",
        "  sum=sum+i\n",
        "  print(sum)\n",
        "\n",
        "\n",
        "print('')\n",
        "print('')\n",
        "\n",
        "sum=1\n",
        "for i in range(1,100,7):\n",
        "     sum=sum+i\n",
        "print('sum:',sum)"
      ],
      "metadata": {
        "colab": {
          "base_uri": "https://localhost:8080/"
        },
        "id": "vNMeDsTlPiYd",
        "outputId": "a7f62db6-29a5-4e72-d9e0-ae1fb4cbcbfc"
      },
      "execution_count": null,
      "outputs": [
        {
          "output_type": "stream",
          "name": "stdout",
          "text": [
            "2\n",
            "10\n",
            "25\n",
            "47\n",
            "76\n",
            "112\n",
            "155\n",
            "205\n",
            "262\n",
            "326\n",
            "397\n",
            "475\n",
            "560\n",
            "652\n",
            "751\n",
            "\n",
            "\n",
            "sum: 751\n"
          ]
        }
      ]
    },
    {
      "cell_type": "code",
      "source": [
        "#3      3+6+9+...+50 = 3+6+9+...+48+2\n",
        "\n",
        "sum=2\n",
        "for i in range(3,51,3):\n",
        "  sum=sum+i\n",
        "  print(sum)\n",
        "\n",
        "print('')\n",
        "print('')\n",
        "\n",
        "sum=2\n",
        "for i in range(3,51,3):\n",
        "  sum=sum+i\n",
        "print('sum:', sum)"
      ],
      "metadata": {
        "colab": {
          "base_uri": "https://localhost:8080/"
        },
        "id": "cqKP9b9yPsKg",
        "outputId": "326c59e2-7775-46bf-85e9-226f326592af"
      },
      "execution_count": null,
      "outputs": [
        {
          "output_type": "stream",
          "name": "stdout",
          "text": [
            "5\n",
            "11\n",
            "20\n",
            "32\n",
            "47\n",
            "65\n",
            "86\n",
            "110\n",
            "137\n",
            "167\n",
            "200\n",
            "236\n",
            "275\n",
            "317\n",
            "362\n",
            "410\n",
            "\n",
            "\n",
            "sum: 410\n"
          ]
        }
      ]
    },
    {
      "cell_type": "markdown",
      "source": [
        "# CALCULATION OF FACTORIAL"
      ],
      "metadata": {
        "id": "AsQh2lUxOjVt"
      }
    },
    {
      "cell_type": "code",
      "source": [
        "# CALCULATION OF FACTORIAL\n",
        "fact=1\n",
        "for i in range(1,6):\n",
        "  fact=fact*i\n",
        "  print(fact)"
      ],
      "metadata": {
        "colab": {
          "base_uri": "https://localhost:8080/"
        },
        "id": "fk0u0dK8VUHg",
        "outputId": "1549b270-4ffa-4219-8c79-dff9a629e90d"
      },
      "execution_count": null,
      "outputs": [
        {
          "output_type": "stream",
          "name": "stdout",
          "text": [
            "1\n",
            "2\n",
            "6\n",
            "24\n",
            "120\n"
          ]
        }
      ]
    },
    {
      "cell_type": "code",
      "source": [
        "fact=1\n",
        "for i in range(1,6):\n",
        "  fact=fact*i\n",
        "print(fact)\n"
      ],
      "metadata": {
        "colab": {
          "base_uri": "https://localhost:8080/"
        },
        "id": "oaN2F3cpWi6L",
        "outputId": "5ea8a663-1ac8-4935-cfed-41dff55f7d4a"
      },
      "execution_count": null,
      "outputs": [
        {
          "output_type": "stream",
          "name": "stdout",
          "text": [
            "120\n"
          ]
        }
      ]
    },
    {
      "cell_type": "markdown",
      "source": [
        "#SUM OF FACTORIAL VALUES"
      ],
      "metadata": {
        "id": "fpRkwDqdMcAD"
      }
    },
    {
      "cell_type": "code",
      "source": [
        "#HOMEWORK TASKS\n",
        "\n",
        "#1!+2!+3!+4!+...+6!\n",
        "s=0\n",
        "for j in range(1,7):\n",
        "  f=1\n",
        "  for i in range(1,j+1):\n",
        "    f=f*i\n",
        "  s=s+f\n",
        "  print(s)\n"
      ],
      "metadata": {
        "colab": {
          "base_uri": "https://localhost:8080/"
        },
        "id": "TNUng84INot6",
        "outputId": "2f0ba55a-56d9-436c-8d5b-650c63c3e196"
      },
      "execution_count": 25,
      "outputs": [
        {
          "output_type": "stream",
          "name": "stdout",
          "text": [
            "1\n",
            "3\n",
            "9\n",
            "33\n",
            "153\n",
            "873\n"
          ]
        }
      ]
    },
    {
      "cell_type": "code",
      "source": [
        "# 4!+5!+6!+..+10!\n",
        "\n",
        "sum=0\n",
        "for j in range(4,11):\n",
        "  fact=1\n",
        "  for i in range(1,j+1):\n",
        "    fact=fact*i\n",
        "  sum=sum+fact\n",
        "  print(sum)"
      ],
      "metadata": {
        "colab": {
          "base_uri": "https://localhost:8080/"
        },
        "id": "5rQya-Q1Nogz",
        "outputId": "e67c56e5-0e7d-4cc0-e8a4-1f2eaaaa4d3f"
      },
      "execution_count": 24,
      "outputs": [
        {
          "output_type": "stream",
          "name": "stdout",
          "text": [
            "24\n",
            "144\n",
            "864\n",
            "5904\n",
            "46224\n",
            "409104\n",
            "4037904\n"
          ]
        }
      ]
    },
    {
      "cell_type": "code",
      "source": [
        "# 1!+3!+5!+7!+9!\n",
        "\n",
        "sum=0\n",
        "for j in range(1,10,2):\n",
        "  fact=1\n",
        "  for i in range(1,j+1):\n",
        "    fact=fact*i\n",
        "  sum=sum+fact\n",
        "  print(sum)"
      ],
      "metadata": {
        "colab": {
          "base_uri": "https://localhost:8080/"
        },
        "id": "rxAA0UoRNoSU",
        "outputId": "44932808-007e-4660-989f-1ebdc5e11d76"
      },
      "execution_count": 23,
      "outputs": [
        {
          "output_type": "stream",
          "name": "stdout",
          "text": [
            "1\n",
            "7\n",
            "127\n",
            "5167\n",
            "368047\n"
          ]
        }
      ]
    },
    {
      "cell_type": "code",
      "source": [
        "# 1!+2!+3!+4!+5!\n",
        "\n",
        "s=0\n",
        "for j in range(1,6):\n",
        "  f=1\n",
        "  for i in range(1,j+1):\n",
        "    f=f*i\n",
        "  s=s+f\n",
        "  print(s)"
      ],
      "metadata": {
        "colab": {
          "base_uri": "https://localhost:8080/"
        },
        "id": "nO1me49pNoCS",
        "outputId": "5efa193e-e7d2-42fc-e42e-0ea81bcf5199"
      },
      "execution_count": 22,
      "outputs": [
        {
          "output_type": "stream",
          "name": "stdout",
          "text": [
            "1\n",
            "3\n",
            "9\n",
            "33\n",
            "153\n"
          ]
        }
      ]
    },
    {
      "cell_type": "markdown",
      "source": [
        "#FIBONACCI SERIES"
      ],
      "metadata": {
        "id": "cVtAokzZMOzM"
      }
    },
    {
      "cell_type": "code",
      "source": [
        "# FIBONACCI SERIES\n",
        "#  0,1,1,2,3,5,8,13,21,34\n",
        "\n",
        "t1=0\n",
        "t2=1\n",
        "n=int(input(\"enter a number  : \"))\n",
        "print(t1)\n",
        "print(t2)\n",
        "for i in range(3,n+1):\n",
        "  # or for i in range(1,n-1):\n",
        "  t3=t1+t2\n",
        "  t1=t2\n",
        "  t2=t3\n",
        "  print(t3)"
      ],
      "metadata": {
        "colab": {
          "base_uri": "https://localhost:8080/"
        },
        "id": "W3jN1ZfTNSri",
        "outputId": "9a11f69e-24b6-4ed2-ad3c-0674705c5447"
      },
      "execution_count": 21,
      "outputs": [
        {
          "output_type": "stream",
          "name": "stdout",
          "text": [
            "enter a number  : 10\n",
            "0\n",
            "1\n",
            "1\n",
            "2\n",
            "3\n",
            "5\n",
            "8\n",
            "13\n",
            "21\n",
            "34\n"
          ]
        }
      ]
    },
    {
      "cell_type": "markdown",
      "source": [
        "#CALCULATION OF HCF AND LCM"
      ],
      "metadata": {
        "id": "LnA3nmjEf5re"
      }
    },
    {
      "cell_type": "code",
      "source": [
        "# HCF AND LCM\n",
        "\n",
        "# HCF OF 7,9\n",
        "\n",
        "a=7\n",
        "b=9\n",
        "if a>b:\n",
        " small=b\n",
        "else:\n",
        " small=a\n",
        "for i in range(1, small+1):\n",
        "    if a%i==0 and b%i==0:\n",
        "      hcf=i\n",
        "print(hcf)"
      ],
      "metadata": {
        "colab": {
          "base_uri": "https://localhost:8080/"
        },
        "id": "ygPLwUcAbMJt",
        "outputId": "d405dd45-4fa5-4ac9-b0de-86cdfc8f38cf"
      },
      "execution_count": 13,
      "outputs": [
        {
          "output_type": "stream",
          "name": "stdout",
          "text": [
            "1\n"
          ]
        }
      ]
    },
    {
      "cell_type": "code",
      "source": [
        "# HCF OF 10,20\n",
        "\n",
        "a=10\n",
        "b=20\n",
        "if a>b:\n",
        " small=b\n",
        "else:\n",
        " small=a\n",
        "for i in range(1, small+1):\n",
        "    if a%i==0 and b%i==0:\n",
        "      hcf=i\n",
        "print(hcf)"
      ],
      "metadata": {
        "colab": {
          "base_uri": "https://localhost:8080/"
        },
        "id": "IEXpClsodqYP",
        "outputId": "6cdb50ac-6700-4f5c-e931-9013d6b576ce"
      },
      "execution_count": 12,
      "outputs": [
        {
          "output_type": "stream",
          "name": "stdout",
          "text": [
            "10\n"
          ]
        }
      ]
    },
    {
      "cell_type": "code",
      "source": [
        "# LCM OF 7,9\n",
        "\n",
        "a=7\n",
        "b=9\n",
        "\n",
        "if a>b:\n",
        " big=a\n",
        "else:\n",
        " big=b\n",
        "product=a*b\n",
        "for i in range(big,product+1):\n",
        "  if i%a==0 and i%b==0:\n",
        "    lcm=i\n",
        "    break\n",
        "print(lcm)\n"
      ],
      "metadata": {
        "colab": {
          "base_uri": "https://localhost:8080/"
        },
        "id": "BNQRzezRgEe8",
        "outputId": "b90497a1-33a7-46b3-8a50-6a68294afeeb"
      },
      "execution_count": 40,
      "outputs": [
        {
          "output_type": "stream",
          "name": "stdout",
          "text": [
            "63\n"
          ]
        }
      ]
    },
    {
      "cell_type": "code",
      "source": [
        "# LCM OF 10,20\n",
        "a=10\n",
        "b=20\n",
        "\n",
        "if a>b:\n",
        " big=a\n",
        "else:\n",
        " big=b\n",
        "product=a*b\n",
        "for i in range(big,product+1):\n",
        "  if i%a==0 and i%b==0:\n",
        "    lcm=i\n",
        "    break\n",
        "print(lcm)\n"
      ],
      "metadata": {
        "colab": {
          "base_uri": "https://localhost:8080/"
        },
        "id": "9q_OAQGs-qeZ",
        "outputId": "55d529df-a8de-4171-cf1a-8879e491919a"
      },
      "execution_count": 39,
      "outputs": [
        {
          "output_type": "stream",
          "name": "stdout",
          "text": [
            "20\n"
          ]
        }
      ]
    },
    {
      "cell_type": "code",
      "source": [
        "\n",
        "# LCM OF 15,20\n",
        "\n",
        "a=15\n",
        "b=20\n",
        "\n",
        "if a>b:\n",
        " big=a\n",
        "else:\n",
        " big=b\n",
        "product=a*b\n",
        "for i in range(big,product+1):\n",
        "  if i%a==0 and i%b==0:\n",
        "    lcm=i\n",
        "    break\n",
        "print(lcm)\n",
        "\n"
      ],
      "metadata": {
        "colab": {
          "base_uri": "https://localhost:8080/"
        },
        "id": "qiTMyLYq5wHO",
        "outputId": "e9cd2eb5-9752-4903-e42d-ff991427c033"
      },
      "execution_count": 41,
      "outputs": [
        {
          "output_type": "stream",
          "name": "stdout",
          "text": [
            "60\n"
          ]
        }
      ]
    },
    {
      "cell_type": "code",
      "source": [
        "# LCM OF 150,225\n",
        "\n",
        "a=150\n",
        "b=225\n",
        "\n",
        "if a>b:\n",
        " big=a\n",
        "else:\n",
        " big=b\n",
        "product=a*b\n",
        "for i in range(big,product+1):\n",
        "  if i%a==0 and i%b==0:\n",
        "    lcm=i\n",
        "    break\n",
        "print(lcm)\n"
      ],
      "metadata": {
        "colab": {
          "base_uri": "https://localhost:8080/"
        },
        "id": "00BJcEF5_VVK",
        "outputId": "1285cb1e-ba61-419f-dfed-061cc60f1b92"
      },
      "execution_count": 42,
      "outputs": [
        {
          "output_type": "stream",
          "name": "stdout",
          "text": [
            "450\n"
          ]
        }
      ]
    }
  ],
  "metadata": {
    "colab": {
      "provenance": [],
      "collapsed_sections": [
        "g8MoA6qTB3Q7",
        "YTt--YqeIqmp",
        "repMm6LpJN9G",
        "nIBAD86DJWRe",
        "3ZUaDGkwJuw4",
        "IONNxWukO3ff",
        "QUf85k_nJzAX",
        "0fCHP_2aO1Ff",
        "AsQh2lUxOjVt",
        "fpRkwDqdMcAD",
        "cVtAokzZMOzM"
      ],
      "authorship_tag": "ABX9TyMVSzK/BdxPwKNb34T2lkWs",
      "include_colab_link": true
    },
    "kernelspec": {
      "display_name": "Python 3",
      "name": "python3"
    },
    "language_info": {
      "name": "python"
    }
  },
  "nbformat": 4,
  "nbformat_minor": 0
}