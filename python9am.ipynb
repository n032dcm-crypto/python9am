{
  "nbformat": 4,
  "nbformat_minor": 0,
  "metadata": {
    "colab": {
      "provenance": [],
      "authorship_tag": "ABX9TyPXY7iU1V3ajBHIKLkCIngg",
      "include_colab_link": true
    },
    "kernelspec": {
      "name": "python3",
      "display_name": "Python 3"
    },
    "language_info": {
      "name": "python"
    }
  },
  "cells": [
    {
      "cell_type": "markdown",
      "metadata": {
        "id": "view-in-github",
        "colab_type": "text"
      },
      "source": [
        "<a href=\"https://colab.research.google.com/github/n032dcm-crypto/python9am/blob/main/python9am.ipynb\" target=\"_parent\"><img src=\"https://colab.research.google.com/assets/colab-badge.svg\" alt=\"Open In Colab\"/></a>"
      ]
    },
    {
      "cell_type": "code",
      "execution_count": 10,
      "metadata": {
        "id": "rvrTLhDykR58",
        "colab": {
          "base_uri": "https://localhost:8080/",
          "height": 487
        },
        "outputId": "ddd73c4b-446f-466d-9f63-efb8bb87b445"
      },
      "outputs": [
        {
          "output_type": "stream",
          "name": "stdout",
          "text": [
            "                                       BIO DATA                                        \n",
            "             \n",
            "             \n",
            "             \n",
            "     NAME : NIKITA SHARMA \n",
            "     AGE : 29 \n",
            "     GENDER : FEMALE \n",
            "     DATE OF BIRTH: 26JULY,1999 \n",
            "     FATHER'S NAME: MR.ANIL KUMAR \n",
            "     MOTHER'S NAME: MRS.SUMAN \n",
            "     LANGUAGES KNOWN : HINDI, ENGLISH, PUNJABI, FRENCH \n",
            "     NATIONALITY : INDIA \n",
            "     RELIGION : HINDUISM\n",
            "     QUALIFICATION: BCA, MCA \n",
            "     EXPERIENCE : WORKED AS AN INTERN AT TOXCL TECHNOLOGIES, WORKED AS A SENIOR DEVELOPER AT BYTES TECH. \n",
            "     MOBILE NUMBER : 9887854525 \n",
            "     EMAIL ID : n2dm@gmail.com \n",
            "     ADDRESS : 234, SECTOR-12C, MAIN MARKET, LUDHIANA \n",
            "     MARITAL STATUS : UNMARRIED \n",
            "             \n",
            "             \n",
            "                                                                         PLACE :  CHANDIGARH       \n",
            "                                                                         DATE :  23 SEPTEMBER,2025 \n",
            "                                                                         SIGNATURE :  NIKITA S.    \n",
            "             \n",
            "             \n"
          ]
        },
        {
          "output_type": "execute_result",
          "data": {
            "text/plain": [
              "'hello world\\ndear screen\\nend.'"
            ],
            "application/vnd.google.colaboratory.intrinsic+json": {
              "type": "string"
            }
          },
          "metadata": {},
          "execution_count": 10
        }
      ],
      "source": [
        "print('                                       BIO DATA                                        ')\n",
        "\n",
        "\n",
        "print('             ')\n",
        "print('             ')\n",
        "print('             ')\n",
        "\n",
        "print('     NAME : NIKITA SHARMA ')\n",
        "print('     AGE : 29 ')\n",
        "print('     GENDER : FEMALE ')\n",
        "print('     DATE OF BIRTH: 26JULY,1999 ')\n",
        "print(\"     FATHER'S NAME: MR.ANIL KUMAR \" )\n",
        "print(\"     MOTHER'S NAME: MRS.SUMAN \" )\n",
        "print('     LANGUAGES KNOWN : HINDI, ENGLISH, PUNJABI, FRENCH ')\n",
        "print('     NATIONALITY : INDIA ')\n",
        "print('     RELIGION : HINDUISM')\n",
        "print('     QUALIFICATION: BCA, MCA ')\n",
        "print('     EXPERIENCE : WORKED AS AN INTERN AT TOXCL TECHNOLOGIES, WORKED AS A SENIOR DEVELOPER AT BYTES TECH. ')\n",
        "print('     MOBILE NUMBER : 9887854525 ')\n",
        "print('     EMAIL ID : n2dm@gmail.com ')\n",
        "print('     ADDRESS : 234, SECTOR-12C, MAIN MARKET, LUDHIANA ')\n",
        "print('     MARITAL STATUS : UNMARRIED ')\n",
        "print('             ')\n",
        "print('             ')\n",
        "\n",
        "\n",
        "\n",
        "print('                                                                         PLACE :  CHANDIGARH       ')\n",
        "print('                                                                         DATE :  23 SEPTEMBER,2025 ')\n",
        "print('                                                                         SIGNATURE :  NIKITA S.    ')\n",
        "print('             ')\n",
        "print('             ')\n",
        "\n",
        "#comments\n",
        "'''hey\n",
        "dear\n",
        " one '''\n",
        "\"\"\"hello world\n",
        "dear screen\n",
        "end.\"\"\"\n",
        "#hi i am writing code for hello world"
      ]
    },
    {
      "cell_type": "code",
      "source": [
        "print(\"hello world\")\n",
        "hi am wrIting code for hello world"
      ],
      "metadata": {
        "colab": {
          "base_uri": "https://localhost:8080/",
          "height": 106
        },
        "id": "IDcdUXexl1pm",
        "outputId": "89388dab-f57e-4f46-b962-d86784a50759"
      },
      "execution_count": null,
      "outputs": [
        {
          "output_type": "error",
          "ename": "SyntaxError",
          "evalue": "invalid syntax (ipython-input-3206071497.py, line 2)",
          "traceback": [
            "\u001b[0;36m  File \u001b[0;32m\"/tmp/ipython-input-3206071497.py\"\u001b[0;36m, line \u001b[0;32m2\u001b[0m\n\u001b[0;31m    hi am wrting code for hello world\u001b[0m\n\u001b[0m       ^\u001b[0m\n\u001b[0;31mSyntaxError\u001b[0m\u001b[0;31m:\u001b[0m invalid syntax\n"
          ]
        }
      ]
    }
  ]
}