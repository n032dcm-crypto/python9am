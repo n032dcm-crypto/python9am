{
  "nbformat": 4,
  "nbformat_minor": 0,
  "metadata": {
    "colab": {
      "provenance": [],
      "authorship_tag": "ABX9TyOigFYtGgsdermZ2xVheByj",
      "include_colab_link": true
    },
    "kernelspec": {
      "name": "python3",
      "display_name": "Python 3"
    },
    "language_info": {
      "name": "python"
    }
  },
  "cells": [
    {
      "cell_type": "markdown",
      "metadata": {
        "id": "view-in-github",
        "colab_type": "text"
      },
      "source": [
        "<a href=\"https://colab.research.google.com/github/n032dcm-crypto/python9am/blob/main/python9amloopsnb.ipynb\" target=\"_parent\"><img src=\"https://colab.research.google.com/assets/colab-badge.svg\" alt=\"Open In Colab\"/></a>"
      ]
    },
    {
      "cell_type": "code",
      "execution_count": null,
      "metadata": {
        "colab": {
          "base_uri": "https://localhost:8080/"
        },
        "id": "rTufnzfNJIzk",
        "outputId": "dd7ed157-b727-4373-d96e-a8e23fc78ac2"
      },
      "outputs": [
        {
          "output_type": "stream",
          "name": "stdout",
          "text": [
            "hello world\n",
            "hello world\n",
            "hello world\n",
            "hello world\n",
            "hello world\n",
            "hello world\n",
            "hello world\n",
            "hello world\n",
            "hello world\n",
            "hello world\n"
          ]
        }
      ],
      "source": [
        "#FOR LOOP\n",
        "for i in range(0,10):\n",
        "  print(\"hello world\")\n"
      ]
    },
    {
      "cell_type": "code",
      "source": [
        "for i in range(1,26,2):\n",
        "  print(i)"
      ],
      "metadata": {
        "colab": {
          "base_uri": "https://localhost:8080/"
        },
        "id": "XL0JSlzTJTCm",
        "outputId": "796f2181-cde5-493c-e7ad-dff7d412a663"
      },
      "execution_count": null,
      "outputs": [
        {
          "output_type": "stream",
          "name": "stdout",
          "text": [
            "1\n",
            "3\n",
            "5\n",
            "7\n",
            "9\n",
            "11\n",
            "13\n",
            "15\n",
            "17\n",
            "19\n",
            "21\n",
            "23\n",
            "25\n"
          ]
        }
      ]
    },
    {
      "cell_type": "code",
      "source": [
        "for i in range(1,26,2):\n",
        "    print(\"odd\",i)"
      ],
      "metadata": {
        "colab": {
          "base_uri": "https://localhost:8080/"
        },
        "id": "1NNQL9jJJwHF",
        "outputId": "eff330bc-a6df-4947-f4d8-74a266758ebe"
      },
      "execution_count": null,
      "outputs": [
        {
          "output_type": "stream",
          "name": "stdout",
          "text": [
            "odd 1\n",
            "odd 3\n",
            "odd 5\n",
            "odd 7\n",
            "odd 9\n",
            "odd 11\n",
            "odd 13\n",
            "odd 15\n",
            "odd 17\n",
            "odd 19\n",
            "odd 21\n",
            "odd 23\n",
            "odd 25\n"
          ]
        }
      ]
    },
    {
      "cell_type": "code",
      "source": [
        "for i in range(0,26,2):\n",
        "  print('even', i)"
      ],
      "metadata": {
        "colab": {
          "base_uri": "https://localhost:8080/"
        },
        "id": "URoZfmXRK4Ab",
        "outputId": "88fe6ffa-8f4f-4ec4-a8b5-e75af6e64ed8"
      },
      "execution_count": null,
      "outputs": [
        {
          "output_type": "stream",
          "name": "stdout",
          "text": [
            "even 0\n",
            "even 2\n",
            "even 4\n",
            "even 6\n",
            "even 8\n",
            "even 10\n",
            "even 12\n",
            "even 14\n",
            "even 16\n",
            "even 18\n",
            "even 20\n",
            "even 22\n",
            "even 24\n"
          ]
        }
      ]
    },
    {
      "cell_type": "code",
      "source": [
        "sum=0\n",
        "for i in range(1,11):\n",
        "  sum=sum+i\n",
        "  print(sum)\n"
      ],
      "metadata": {
        "colab": {
          "base_uri": "https://localhost:8080/"
        },
        "id": "l-NhCaS_J5TA",
        "outputId": "46e2807b-2821-4cb1-e297-b0643c7e089d"
      },
      "execution_count": null,
      "outputs": [
        {
          "output_type": "stream",
          "name": "stdout",
          "text": [
            "1\n",
            "3\n",
            "6\n",
            "10\n",
            "15\n",
            "21\n",
            "28\n",
            "36\n",
            "45\n",
            "55\n"
          ]
        }
      ]
    },
    {
      "cell_type": "code",
      "source": [
        "sum=0\n",
        "for i in range(1,11):\n",
        "  sum=sum+i\n",
        "print('sum:',sum)"
      ],
      "metadata": {
        "colab": {
          "base_uri": "https://localhost:8080/"
        },
        "id": "Qr7qnyZGL9c_",
        "outputId": "af28a1f8-2a5d-4edd-c450-98e7735f0d36"
      },
      "execution_count": null,
      "outputs": [
        {
          "output_type": "stream",
          "name": "stdout",
          "text": [
            "sum: 55\n"
          ]
        }
      ]
    },
    {
      "cell_type": "code",
      "source": [
        "#HOMEWORK TASKS\n",
        "#1    2+4+6+...+52\n",
        "\n",
        "sum=0\n",
        "for i in range(2,52,2):\n",
        "  sum=sum+i\n",
        "  print(sum)\n",
        "\n",
        "print('')\n",
        "print('')\n",
        "\n",
        "sum=0\n",
        "for i in range(2,52,2):\n",
        "  sum=sum+i\n",
        "print('sum:',sum)\n",
        "\n",
        "\n"
      ],
      "metadata": {
        "colab": {
          "base_uri": "https://localhost:8080/"
        },
        "id": "udy_gNrjNlM0",
        "outputId": "6c365ccc-837f-46d8-c668-2397b1464b41"
      },
      "execution_count": null,
      "outputs": [
        {
          "output_type": "stream",
          "name": "stdout",
          "text": [
            "2\n",
            "6\n",
            "12\n",
            "20\n",
            "30\n",
            "42\n",
            "56\n",
            "72\n",
            "90\n",
            "110\n",
            "132\n",
            "156\n",
            "182\n",
            "210\n",
            "240\n",
            "272\n",
            "306\n",
            "342\n",
            "380\n",
            "420\n",
            "462\n",
            "506\n",
            "552\n",
            "600\n",
            "650\n",
            "\n",
            "\n",
            "sum: 650\n"
          ]
        }
      ]
    },
    {
      "cell_type": "code",
      "source": [
        "#2      1+8+15+22+29+...+100\n",
        "\n",
        "sum=0\n",
        "for i in range(1,101,7):\n",
        "  sum=sum+i\n",
        "  print(sum)\n",
        "\n",
        "\n",
        "print('')\n",
        "print('')\n",
        "\n",
        "sum=0\n",
        "for i in range(1,101,7):\n",
        "     sum=sum+i\n",
        "print('sum:',sum)"
      ],
      "metadata": {
        "colab": {
          "base_uri": "https://localhost:8080/"
        },
        "id": "LV6Y4g0pQLfp",
        "outputId": "aaaf55d4-6db6-4024-c789-7d52793c219a"
      },
      "execution_count": null,
      "outputs": [
        {
          "output_type": "stream",
          "name": "stdout",
          "text": [
            "1\n",
            "9\n",
            "24\n",
            "46\n",
            "75\n",
            "111\n",
            "154\n",
            "204\n",
            "261\n",
            "325\n",
            "396\n",
            "474\n",
            "559\n",
            "651\n",
            "750\n",
            "\n",
            "\n",
            "sum: 750\n"
          ]
        }
      ]
    },
    {
      "cell_type": "code",
      "source": [
        "#3      3+6+9+...+50\n",
        "\n",
        "sum=0\n",
        "for i in range(3,51,3):\n",
        "  sum=sum+i\n",
        "  print(sum)\n",
        "\n",
        "print('')\n",
        "print('')\n",
        "\n",
        "sum=0\n",
        "for i in range(3,51,3):\n",
        "  sum=sum+i\n",
        "print('sum:', sum)\n",
        "\n"
      ],
      "metadata": {
        "colab": {
          "base_uri": "https://localhost:8080/"
        },
        "id": "hO1cX0ghR3M0",
        "outputId": "e6fb95d9-b029-492a-c457-beb46f1839e3"
      },
      "execution_count": null,
      "outputs": [
        {
          "output_type": "stream",
          "name": "stdout",
          "text": [
            "3\n",
            "9\n",
            "18\n",
            "30\n",
            "45\n",
            "63\n",
            "84\n",
            "108\n",
            "135\n",
            "165\n",
            "198\n",
            "234\n",
            "273\n",
            "315\n",
            "360\n",
            "408\n",
            "\n",
            "\n",
            "sum: 408\n"
          ]
        }
      ]
    }
  ]
}