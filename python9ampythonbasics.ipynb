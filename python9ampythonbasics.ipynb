{
  "cells": [
    {
      "cell_type": "markdown",
      "metadata": {
        "id": "view-in-github",
        "colab_type": "text"
      },
      "source": [
        "<a href=\"https://colab.research.google.com/github/n032dcm-crypto/python9am/blob/main/python9ampythonbasics.ipynb\" target=\"_parent\"><img src=\"https://colab.research.google.com/assets/colab-badge.svg\" alt=\"Open In Colab\"/></a>"
      ]
    },
    {
      "cell_type": "code",
      "execution_count": null,
      "metadata": {
        "id": "IDcdUXexl1pm"
      },
      "outputs": [],
      "source": [
        "#python basics\n",
        "\n",
        "\n",
        "print(\"hello world\")\n",
        "#hi am wrIting code for hello world"
      ]
    },
    {
      "cell_type": "code",
      "source": [
        "#comments\n",
        "'''hey\n",
        "dear\n",
        " one '''\n",
        "\"\"\"hello world\n",
        "dear screen\n",
        "end.\"\"\"\n",
        "#hi i am writing code for hello world"
      ],
      "metadata": {
        "id": "wNazV0eh87Iv"
      },
      "execution_count": null,
      "outputs": []
    },
    {
      "cell_type": "code",
      "source": [
        "#python basics-task\n",
        "\n",
        "print('                                       BIO DATA                                        ')\n",
        "\n",
        "\n",
        "print('             ')\n",
        "print('             ')\n",
        "print('             ')\n",
        "\n",
        "print('     NAME : NIKITA SHARMA ')\n",
        "print('     AGE : 26 ')\n",
        "print('     GENDER : FEMALE ')\n",
        "print('     DATE OF BIRTH: 26JULY,1999 ')\n",
        "print(\"     FATHER'S NAME: MR.ANIL KUMAR \" )\n",
        "print(\"     MOTHER'S NAME: MRS.SUMAN \" )\n",
        "print('     LANGUAGES KNOWN : HINDI, ENGLISH, PUNJABI, FRENCH ')\n",
        "print('     NATIONALITY : INDIA ')\n",
        "print('     RELIGION : HINDUISM')\n",
        "print('     QUALIFICATION: BCA, MCA ')\n",
        "print('     EXPERIENCE : WORKED AS AN INTERN AT TOXCL TECHNOLOGIES, WORKED AS A SENIOR DEVELOPER AT BYTES TECH. ')\n",
        "print('     MOBILE NUMBER : 9887854525 ')\n",
        "print('     EMAIL ID : n2dm@gmail.com ')\n",
        "print('     ADDRESS : 234, SECTOR-12C, MAIN MARKET, LUDHIANA ')\n",
        "print('     MARITAL STATUS : UNMARRIED ')\n",
        "print('             ')\n",
        "print('             ')\n",
        "\n",
        "\n",
        "\n",
        "print('                                                                         PLACE :  CHANDIGARH       ')\n",
        "print('                                                                         DATE :  23 SEPTEMBER,2025 ')\n",
        "print('                                                                         SIGNATURE :  NIKITA S.    ')\n",
        "print('             ')\n",
        "print('             ')\n"
      ],
      "metadata": {
        "colab": {
          "base_uri": "https://localhost:8080/"
        },
        "id": "YClwvXXg8rXf",
        "outputId": "a3b23f60-9dcc-44bb-84b3-53fca028ff76"
      },
      "execution_count": 3,
      "outputs": [
        {
          "output_type": "stream",
          "name": "stdout",
          "text": [
            "                                       BIO DATA                                        \n",
            "             \n",
            "             \n",
            "             \n",
            "     NAME : NIKITA SHARMA \n",
            "     AGE : 26 \n",
            "     GENDER : FEMALE \n",
            "     DATE OF BIRTH: 26JULY,1999 \n",
            "     FATHER'S NAME: MR.ANIL KUMAR \n",
            "     MOTHER'S NAME: MRS.SUMAN \n",
            "     LANGUAGES KNOWN : HINDI, ENGLISH, PUNJABI, FRENCH \n",
            "     NATIONALITY : INDIA \n",
            "     RELIGION : HINDUISM\n",
            "     QUALIFICATION: BCA, MCA \n",
            "     EXPERIENCE : WORKED AS AN INTERN AT TOXCL TECHNOLOGIES, WORKED AS A SENIOR DEVELOPER AT BYTES TECH. \n",
            "     MOBILE NUMBER : 9887854525 \n",
            "     EMAIL ID : n2dm@gmail.com \n",
            "     ADDRESS : 234, SECTOR-12C, MAIN MARKET, LUDHIANA \n",
            "     MARITAL STATUS : UNMARRIED \n",
            "             \n",
            "             \n",
            "                                                                         PLACE :  CHANDIGARH       \n",
            "                                                                         DATE :  23 SEPTEMBER,2025 \n",
            "                                                                         SIGNATURE :  NIKITA S.    \n",
            "             \n",
            "             \n"
          ]
        }
      ]
    },
    {
      "cell_type": "code",
      "execution_count": 2,
      "metadata": {
        "colab": {
          "base_uri": "https://localhost:8080/"
        },
        "id": "rvrTLhDykR58",
        "outputId": "7138471d-a938-43a2-df58-0ed40a66244f"
      },
      "outputs": [
        {
          "output_type": "stream",
          "name": "stdout",
          "text": [
            "                                       BIO DATA                                        \n",
            "             \n",
            "             \n",
            "             \n",
            "     NAME :  NIKITA SHARMA\n",
            "     AGE :  26\n",
            "     GENDER :  FEMALE\n",
            "     DATE OF BIRTH:  26 JULY,1999\n",
            "     FATHER'S NAME:  MR.ANIL KUMAR\n",
            "     MOTHER'S NAME:  MRS.SUMAN\n",
            "     LANGUAGES KNOWN :  HINDI, ENGLISH, PUNJABI, FRENCH\n",
            "     NATIONALITY :  INDIAN\n",
            "     RELIGION : HINDUISM\n",
            "     QUALIFICATION:  BCA, MCA\n",
            "     EXPERIENCE :   WORKED AS AN INTERN AT TOXCL TECH., WORKED AS A SENIOR DEVELOPER AT BYTES TECH.\n",
            "     MOBILE NUMBER :  9887854525\n",
            "     EMAIL ID :  n2dm@gmail.com\n",
            "     ADDRESS :  234, SECTOR-12C, MAIN MARKET, LUDHIANA\n",
            "     MARITAL STATUS : MARRIED :  FALSE\n",
            "             \n",
            "             \n",
            "                                                                         PLACE :  CHANDIGARH       \n",
            "                                                                         DATE :  24 SEPTEMBER,2025 \n",
            "                                                                         SIGNATURE :  NIKITA S.    \n",
            "             \n",
            "             \n"
          ]
        }
      ],
      "source": [
        "#TASK- BIODATA USING VARIABLES\n",
        "\n",
        "name='NIKITA SHARMA'\n",
        "age=26\n",
        "gen='FEMALE'\n",
        "dob='26 JULY,1999'\n",
        "fnam='MR.ANIL KUMAR'\n",
        "mnam='MRS.SUMAN'\n",
        "lang1='HINDI,'\n",
        "lang2='ENGLISH,'\n",
        "lang3='PUNJABI,'\n",
        "lang4='FRENCH'\n",
        "nat='INDIAN'\n",
        "rel= 'HINDUISM'\n",
        "qual='BCA, MCA'\n",
        "exp='WORKED AS AN INTERN AT TOXCL TECH., WORKED AS A SENIOR DEVELOPER AT BYTES TECH.'\n",
        "mob=9887854525\n",
        "mail='n2dm@gmail.com'\n",
        "add='234, SECTOR-12C, MAIN MARKET, LUDHIANA'\n",
        "marrd='FALSE'\n",
        "\n",
        "\n",
        "print('                                       BIO DATA                                        ')\n",
        "\n",
        "\n",
        "print('             ')\n",
        "print('             ')\n",
        "print('             ')\n",
        "\n",
        "print('     NAME : ', name)\n",
        "print('     AGE : ', age)\n",
        "print('     GENDER : ', gen)\n",
        "print('     DATE OF BIRTH: ', dob)\n",
        "print(\"     FATHER'S NAME: \" , fnam)\n",
        "print(\"     MOTHER'S NAME: \", mnam )\n",
        "print('     LANGUAGES KNOWN : ', lang1, lang2, lang3, lang4)\n",
        "print('     NATIONALITY : ', nat)\n",
        "print('     RELIGION :', rel)\n",
        "print('     QUALIFICATION: ', qual)\n",
        "print('     EXPERIENCE :  ', exp)\n",
        "print('     MOBILE NUMBER : ', mob)\n",
        "print('     EMAIL ID : ', mail)\n",
        "print('     ADDRESS : ', add)\n",
        "print('     MARITAL STATUS : MARRIED : ', marrd)\n",
        "print('             ')\n",
        "print('             ')\n",
        "\n",
        "\n",
        "\n",
        "print('                                                                         PLACE :  CHANDIGARH       ')\n",
        "print('                                                                         DATE :  24 SEPTEMBER,2025 ')\n",
        "print('                                                                         SIGNATURE :  NIKITA S.    ')\n",
        "print('             ')\n",
        "print('             ')\n",
        "\n",
        "\n"
      ]
    }
  ],
  "metadata": {
    "colab": {
      "provenance": [],
      "authorship_tag": "ABX9TyNqTGH4Ll2tod1XbBItmWG5",
      "include_colab_link": true
    },
    "kernelspec": {
      "display_name": "Python 3",
      "name": "python3"
    },
    "language_info": {
      "name": "python"
    }
  },
  "nbformat": 4,
  "nbformat_minor": 0
}